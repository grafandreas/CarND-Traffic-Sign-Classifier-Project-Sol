{
 "cells": [
  {
   "cell_type": "markdown",
   "metadata": {},
   "source": [
    "# Self-Driving Car Engineer Nanodegree\n",
    "\n",
    "## Deep Learning\n",
    "\n",
    "## Project: Build a Traffic Sign Recognition Classifier\n",
    "\n",
    "In this notebook, a template is provided for you to implement your functionality in stages, which is required to successfully complete this project. If additional code is required that cannot be included in the notebook, be sure that the Python code is successfully imported and included in your submission if necessary. \n",
    "\n",
    "> **Note**: Once you have completed all of the code implementations, you need to finalize your work by exporting the iPython Notebook as an HTML document. Before exporting the notebook to html, all of the code cells need to have been run so that reviewers can see the final implementation and output. You can then export the notebook by using the menu above and navigating to  \\n\",\n",
    "    \"**File -> Download as -> HTML (.html)**. Include the finished document along with this notebook as your submission. \n",
    "\n",
    "In addition to implementing code, there is a writeup to complete. The writeup should be completed in a separate file, which can be either a markdown file or a pdf document. There is a [write up template](https://github.com/udacity/CarND-Traffic-Sign-Classifier-Project/blob/master/writeup_template.md) that can be used to guide the writing process. Completing the code template and writeup template will cover all of the [rubric points](https://review.udacity.com/#!/rubrics/481/view) for this project.\n",
    "\n",
    "The [rubric](https://review.udacity.com/#!/rubrics/481/view) contains \"Stand Out Suggestions\" for enhancing the project beyond the minimum requirements. The stand out suggestions are optional. If you decide to pursue the \"stand out suggestions\", you can include the code in this Ipython notebook and also discuss the results in the writeup file.\n",
    "\n",
    "\n",
    ">**Note:** Code and Markdown cells can be executed using the **Shift + Enter** keyboard shortcut. In addition, Markdown cells can be edited by typically double-clicking the cell to enter edit mode."
   ]
  },
  {
   "cell_type": "markdown",
   "metadata": {},
   "source": [
    "## Preparation\n",
    "Variable to configure the system\n"
   ]
  },
  {
   "cell_type": "code",
   "execution_count": 1,
   "metadata": {},
   "outputs": [],
   "source": [
    "NORMALIZE2GREY=True\n",
    "NORMALIZE_IMG=True\n",
    "NORMALIZE_CVNORM='EQUALIZE'\n",
    "LEARNING_RATE=0.001\n",
    "#LEARNING_RATE=0.0005\n",
    "EPOCHS = 15 # 10\n",
    "BATCH_SIZE = 128# 128\n",
    "FC1_OUT_SIZE=200 #120\n",
    "FC2_OUT_SIZE=120 #84"
   ]
  },
  {
   "cell_type": "markdown",
   "metadata": {},
   "source": [
    "|NORMALIZE2GREY|NORMALIZE_IMG|NORMALIZE_CVNORM|LEARNING_RATE|EPOCHS|BATCH_SIZE|FC1_OUT_SIZE|FC2_OUT_SIZE|Rate|\n",
    "|------------------------------------------------------------------------------------------------------------|\n",
    "|True|True|NORM|0.001|15|128|200|120|0.931 / 09.111|\n",
    "|True|True|EQUALIZE|0.001|15|128|200|120|0.931 / 09.111|"
   ]
  },
  {
   "cell_type": "markdown",
   "metadata": {},
   "source": [
    "---\n",
    "## Step 0: Load The Data"
   ]
  },
  {
   "cell_type": "code",
   "execution_count": 2,
   "metadata": {},
   "outputs": [
    {
     "name": "stdout",
     "output_type": "stream",
     "text": [
      "(34799, 32, 32, 3)\n",
      "(34799,)\n",
      "[41 41 41 ..., 25 25 25]\n"
     ]
    }
   ],
   "source": [
    "# Load pickled data\n",
    "import pickle\n",
    "\n",
    "# TODO: Fill this in based on where you saved the training and testing data\n",
    "\n",
    "training_file = 'D:\\\\udacity\\\\traffic-signs\\\\train.p'\n",
    "validation_file= 'D:\\\\udacity\\\\traffic-signs\\\\valid.p'\n",
    "testing_file = 'D:\\\\udacity\\\\traffic-signs\\\\test.p'\n",
    "\n",
    "with open(training_file, mode='rb') as f:\n",
    "    train = pickle.load(f)\n",
    "with open(validation_file, mode='rb') as f:\n",
    "    valid = pickle.load(f)\n",
    "with open(testing_file, mode='rb') as f:\n",
    "    test = pickle.load(f)\n",
    "    \n",
    "X_train, y_train = train['features'], train['labels']\n",
    "X_valid, y_valid = valid['features'], valid['labels']\n",
    "X_test, y_test = test['features'], test['labels']\n",
    "\n",
    "print(X_train.shape)\n",
    "print(y_train.shape)\n",
    "print(y_train)"
   ]
  },
  {
   "cell_type": "markdown",
   "metadata": {},
   "source": [
    "---\n",
    "\n",
    "## Step 1: Dataset Summary & Exploration\n",
    "\n",
    "The pickled data is a dictionary with 4 key/value pairs:\n",
    "\n",
    "- `'features'` is a 4D array containing raw pixel data of the traffic sign images, (num examples, width, height, channels).\n",
    "- `'labels'` is a 1D array containing the label/class id of the traffic sign. The file `signnames.csv` contains id -> name mappings for each id.\n",
    "- `'sizes'` is a list containing tuples, (width, height) representing the original width and height the image.\n",
    "- `'coords'` is a list containing tuples, (x1, y1, x2, y2) representing coordinates of a bounding box around the sign in the image. **THESE COORDINATES ASSUME THE ORIGINAL IMAGE. THE PICKLED DATA CONTAINS RESIZED VERSIONS (32 by 32) OF THESE IMAGES**\n",
    "\n",
    "Complete the basic data summary below. Use python, numpy and/or pandas methods to calculate the data summary rather than hard coding the results. For example, the [pandas shape method](http://pandas.pydata.org/pandas-docs/stable/generated/pandas.DataFrame.shape.html) might be useful for calculating some of the summary results. "
   ]
  },
  {
   "cell_type": "markdown",
   "metadata": {},
   "source": [
    "### Provide a Basic Summary of the Data Set Using Python, Numpy and/or Pandas"
   ]
  },
  {
   "cell_type": "code",
   "execution_count": 3,
   "metadata": {},
   "outputs": [
    {
     "name": "stdout",
     "output_type": "stream",
     "text": [
      "Number of training examples = 34799\n",
      "Number of testing examples = 12630\n",
      "Image data shape = (32, 32)\n",
      "Number of classes = 43\n"
     ]
    }
   ],
   "source": [
    "import numpy as np\n",
    "### Replace each question mark with the appropriate value. \n",
    "### Use python, pandas or numpy methods rather than hard coding the results\n",
    "\n",
    "# TODO: Number of training examples\n",
    "n_train = X_train.shape[0]\n",
    "\n",
    "# TODO: Number of validation examples\n",
    "n_validation = X_valid.shape[0]\n",
    "\n",
    "# TODO: Number of testing examples.\n",
    "n_test = X_test.shape[0]\n",
    "\n",
    "# TODO: What's the shape of an traffic sign image?\n",
    "image_shape = (X_train.shape[1],X_train.shape[2])\n",
    "\n",
    "# TODO: How many unique classes/labels there are in the dataset.\n",
    "\n",
    "\n",
    "\n",
    "n_classes = np.unique(np.concatenate([train['labels'],valid['labels'],test['labels']])).size\n",
    "\n",
    "print(\"Number of training examples =\", n_train)\n",
    "print(\"Number of testing examples =\", n_test)\n",
    "print(\"Image data shape =\", image_shape)\n",
    "print(\"Number of classes =\", n_classes)"
   ]
  },
  {
   "cell_type": "markdown",
   "metadata": {},
   "source": [
    "### Include an exploratory visualization of the dataset"
   ]
  },
  {
   "cell_type": "markdown",
   "metadata": {},
   "source": [
    "Visualize the German Traffic Signs Dataset using the pickled file(s). This is open ended, suggestions include: plotting traffic sign images, plotting the count of each sign, etc. \n",
    "\n",
    "The [Matplotlib](http://matplotlib.org/) [examples](http://matplotlib.org/examples/index.html) and [gallery](http://matplotlib.org/gallery.html) pages are a great resource for doing visualizations in Python.\n",
    "\n",
    "**NOTE:** It's recommended you start with something simple first. If you wish to do more, come back to it after you've completed the rest of the sections. It can be interesting to look at the distribution of classes in the training, validation and test set. Is the distribution the same? Are there more examples of some classes than others?"
   ]
  },
  {
   "cell_type": "code",
   "execution_count": 4,
   "metadata": {},
   "outputs": [
    {
     "data": {
      "image/png": "[encoded data removed]",
      "text/plain": [
       "<matplotlib.figure.Figure at 0x1ef5d178320>"
      ]
     },
     "metadata": {},
     "output_type": "display_data"
    },
    {
     "data": {
      "image/png": "[encoded data removed]",
      "text/plain": [
       "<matplotlib.figure.Figure at 0x1ef4a19ce48>"
      ]
     },
     "metadata": {},
     "output_type": "display_data"
    },
    {
     "data": {
      "image/png": "[encoded data removed]",
      "text/plain": [
       "<matplotlib.figure.Figure at 0x1ef5dcee6a0>"
      ]
     },
     "metadata": {},
     "output_type": "display_data"
    },
    {
     "data": {
      "text/plain": [
       "<matplotlib.figure.Figure at 0x1ef5de63978>"
      ]
     },
     "metadata": {},
     "output_type": "display_data"
    },
    {
     "data": {
      "image/png": "[encoded data removed]",
      "text/plain": [
       "<matplotlib.figure.Figure at 0x1ef5de18400>"
      ]
     },
     "metadata": {},
     "output_type": "display_data"
    },
    {
     "data": {
      "text/plain": [
       "<matplotlib.figure.Figure at 0x1ef60d99b00>"
      ]
     },
     "metadata": {},
     "output_type": "display_data"
    },
    {
     "data": {
      "image/png": "[encoded data removed]",
      "text/plain": [
       "<matplotlib.figure.Figure at 0x1ef60c59780>"
      ]
     },
     "metadata": {},
     "output_type": "display_data"
    }
   ],
   "source": [
    "### Data exploration visualization code goes here.\n",
    "### Feel free to use as many code cells as needed.\n",
    "import matplotlib.pyplot as plt\n",
    "from random import randint\n",
    "\n",
    "# Visualizations will be shown in the notebook.\n",
    "%matplotlib inline\n",
    "\n",
    "plt.hist(np.concatenate([train['labels'],valid['labels'],test['labels']]),n_classes)\n",
    "plt.hist(train['labels'],n_classes)\n",
    "plt.figure()\n",
    "plt.hist(np.concatenate([train['labels'],valid['labels'],test['labels']]),n_classes)\n",
    "plt.hist(valid['labels'],n_classes)\n",
    "plt.figure()\n",
    "plt.hist(np.concatenate([train['labels'],valid['labels'],test['labels']]),n_classes)\n",
    "plt.hist(test['labels'],n_classes)\n",
    "#plt.figure()\n",
    "#imgplot = plt.imshow(X_train[1])\n",
    "plt.figure()\n",
    "fig, (ax0, ax1) = plt.subplots(ncols=2, figsize=(8, 4))\n",
    "ax0.imshow(X_train[randint(0, n_train)])\n",
    "ax1.imshow(X_train[randint(0, n_train)])\n",
    "plt.show()\n",
    "plt.figure()\n",
    "fig, (ax0, ax1) = plt.subplots(ncols=2, figsize=(8, 4))\n",
    "ax0.imshow(X_test[randint(0, n_test)])\n",
    "ax1.imshow(X_test[randint(0, n_test)])\n",
    "plt.show()"
   ]
  },
  {
   "cell_type": "markdown",
   "metadata": {},
   "source": [
    "----\n",
    "\n",
    "## Step 2: Design and Test a Model Architecture\n",
    "\n",
    "Design and implement a deep learning model that learns to recognize traffic signs. Train and test your model on the [German Traffic Sign Dataset](http://benchmark.ini.rub.de/?section=gtsrb&subsection=dataset).\n",
    "\n",
    "The LeNet-5 implementation shown in the [classroom](https://classroom.udacity.com/nanodegrees/nd013/parts/fbf77062-5703-404e-b60c-95b78b2f3f9e/modules/6df7ae49-c61c-4bb2-a23e-6527e69209ec/lessons/601ae704-1035-4287-8b11-e2c2716217ad/concepts/d4aca031-508f-4e0b-b493-e7b706120f81) at the end of the CNN lesson is a solid starting point. You'll have to change the number of classes and possibly the preprocessing, but aside from that it's plug and play! \n",
    "\n",
    "With the LeNet-5 solution from the lecture, you should expect a validation set accuracy of about 0.89. To meet specifications, the validation set accuracy will need to be at least 0.93. It is possible to get an even higher accuracy, but 0.93 is the minimum for a successful project submission. \n",
    "\n",
    "There are various aspects to consider when thinking about this problem:\n",
    "\n",
    "- Neural network architecture (is the network over or underfitting?)\n",
    "- Play around preprocessing techniques (normalization, rgb to grayscale, etc)\n",
    "- Number of examples per label (some have more than others).\n",
    "- Generate fake data.\n",
    "\n",
    "Here is an example of a [published baseline model on this problem](http://yann.lecun.com/exdb/publis/pdf/sermanet-ijcnn-11.pdf). It's not required to be familiar with the approach used in the paper but, it's good practice to try to read papers like these."
   ]
  },
  {
   "cell_type": "markdown",
   "metadata": {},
   "source": [
    "### Pre-process the Data Set (normalization, grayscale, etc.)"
   ]
  },
  {
   "cell_type": "markdown",
   "metadata": {},
   "source": [
    "Minimally, the image data should be normalized so that the data has mean zero and equal variance. For image data, `(pixel - 128)/ 128` is a quick way to approximately normalize the data and can be used in this project. \n",
    "\n",
    "Other pre-processing steps are optional. You can try different techniques to see if it improves performance. \n",
    "\n",
    "Use the code cell (or multiple code cells, if necessary) to implement the first step of your project."
   ]
  },
  {
   "cell_type": "code",
   "execution_count": 5,
   "metadata": {},
   "outputs": [],
   "source": [
    "from sklearn.utils import shuffle\n",
    "\n",
    "X_train, y_train = shuffle(X_train, y_train)\n",
    "\n"
   ]
  },
  {
   "cell_type": "code",
   "execution_count": 6,
   "metadata": {},
   "outputs": [
    {
     "name": "stdout",
     "output_type": "stream",
     "text": [
      "(12630, 32, 32, 1)\n",
      "Normalizing to grey....\n",
      "Shape of training data \n",
      "(34799, 32, 32, 1)\n"
     ]
    }
   ],
   "source": [
    "import cv2\n",
    "\n",
    "def shadesOfGrey(X):\n",
    "    return  np.array([cv2.cvtColor( cv2.cvtColor(img, cv2.COLOR_RGB2BGR), cv2.COLOR_RGB2GRAY ) for img in X]  )\n",
    "\n",
    "def cv_normalize(X):\n",
    "    if NORMALIZE_CVNORM == 'NORM':\n",
    "        return np.array([cv2.normalize(img,img,0,255, cv2.NORM_MINMAX, cv2.CV_8UC1) for img in X])\n",
    "    elif NORMALIZE_CVNORM == 'EQUALIZE':\n",
    "        return np.array([cv2.equalizeHist(img,img,)for img in X])\n",
    "    else:\n",
    "        return X\n",
    "\n",
    "def fixShape(X,n):\n",
    "    return X.reshape(n,image_shape[0],image_shape[1],1)\n",
    "\n",
    "dummy = fixShape(shadesOfGrey(X_test),n_test)\n",
    "\n",
    "print(dummy.reshape(n_test,32,32,1).shape)\n",
    "assert dummy.shape == (n_test,32,32,1)\n",
    "\n",
    "if NORMALIZE2GREY:\n",
    "    print(\"Normalizing to grey....\")\n",
    "    X_train = fixShape(cv_normalize(shadesOfGrey(X_train)),n_train  )\n",
    "    X_valid = fixShape(cv_normalize(shadesOfGrey(X_valid)),n_validation  )\n",
    "    X_test = fixShape(cv_normalize(shadesOfGrey(X_test)) ,n_test )\n",
    "    assert X_train.shape == (n_train,image_shape[0],image_shape[1],1), \"X_train has unpexted shape %r\" % X_train.shape\n",
    "    assert X_valid.shape == (n_validation,image_shape[0],image_shape[1],1), \"X_valid has unpexted shape %r\" % X_valid.shape\n",
    "    assert X_test.shape ==  (n_test,image_shape[0],image_shape[1],1), \"X_test has unpexted shape %r\" % X_test.shape\n",
    "    \n",
    "print(\"Shape of training data \")\n",
    "print (X_train.shape)"
   ]
  },
  {
   "cell_type": "code",
   "execution_count": 7,
   "metadata": {},
   "outputs": [
    {
     "data": {
      "image/png": "[encoded data removed]",
      "text/plain": [
       "<matplotlib.figure.Figure at 0x1ef5dad2c88>"
      ]
     },
     "metadata": {},
     "output_type": "display_data"
    },
    {
     "name": "stdout",
     "output_type": "stream",
     "text": [
      "[[[255]\n",
      "  [252]\n",
      "  [241]\n",
      "  ..., \n",
      "  [243]\n",
      "  [220]\n",
      "  [149]]\n",
      "\n",
      " [[255]\n",
      "  [252]\n",
      "  [241]\n",
      "  ..., \n",
      "  [244]\n",
      "  [222]\n",
      "  [131]]\n",
      "\n",
      " [[255]\n",
      "  [252]\n",
      "  [242]\n",
      "  ..., \n",
      "  [244]\n",
      "  [224]\n",
      "  [122]]\n",
      "\n",
      " ..., \n",
      " [[ 19]\n",
      "  [ 19]\n",
      "  [ 32]\n",
      "  ..., \n",
      "  [ 19]\n",
      "  [ 32]\n",
      "  [ 54]]\n",
      "\n",
      " [[ 19]\n",
      "  [ 19]\n",
      "  [ 32]\n",
      "  ..., \n",
      "  [ 65]\n",
      "  [ 54]\n",
      "  [ 54]]\n",
      "\n",
      " [[ 19]\n",
      "  [ 19]\n",
      "  [ 32]\n",
      "  ..., \n",
      "  [ 54]\n",
      "  [ 44]\n",
      "  [ 44]]]\n",
      "[[[218]\n",
      "  [212]\n",
      "  [198]\n",
      "  ..., \n",
      "  [ 67]\n",
      "  [106]\n",
      "  [180]]\n",
      "\n",
      " [[198]\n",
      "  [198]\n",
      "  [188]\n",
      "  ..., \n",
      "  [ 67]\n",
      "  [113]\n",
      "  [180]]\n",
      "\n",
      " [[180]\n",
      "  [172]\n",
      "  [155]\n",
      "  ..., \n",
      "  [ 47]\n",
      "  [106]\n",
      "  [185]]\n",
      "\n",
      " ..., \n",
      " [[ 67]\n",
      "  [ 56]\n",
      "  [ 47]\n",
      "  ..., \n",
      "  [106]\n",
      "  [ 85]\n",
      "  [ 85]]\n",
      "\n",
      " [[ 11]\n",
      "  [ 24]\n",
      "  [ 24]\n",
      "  ..., \n",
      "  [ 30]\n",
      "  [ 67]\n",
      "  [ 67]]\n",
      "\n",
      " [[ 67]\n",
      "  [ 56]\n",
      "  [ 38]\n",
      "  ..., \n",
      "  [ 11]\n",
      "  [125]\n",
      "  [163]]]\n",
      "[[[133]\n",
      "  [126]\n",
      "  [148]\n",
      "  ..., \n",
      "  [126]\n",
      "  [129]\n",
      "  [155]]\n",
      "\n",
      " [[126]\n",
      "  [133]\n",
      "  [147]\n",
      "  ..., \n",
      "  [116]\n",
      "  [138]\n",
      "  [138]]\n",
      "\n",
      " [[155]\n",
      "  [152]\n",
      "  [147]\n",
      "  ..., \n",
      "  [126]\n",
      "  [ 91]\n",
      "  [109]]\n",
      "\n",
      " ..., \n",
      " [[ 45]\n",
      "  [ 45]\n",
      "  [ 28]\n",
      "  ..., \n",
      "  [212]\n",
      "  [182]\n",
      "  [ 28]]\n",
      "\n",
      " [[ 15]\n",
      "  [ 28]\n",
      "  [ 28]\n",
      "  ..., \n",
      "  [210]\n",
      "  [179]\n",
      "  [ 28]]\n",
      "\n",
      " [[ 79]\n",
      "  [ 15]\n",
      "  [  7]\n",
      "  ..., \n",
      "  [208]\n",
      "  [185]\n",
      "  [ 45]]]\n"
     ]
    },
    {
     "data": {
      "image/png": "[encoded data removed]",
      "text/plain": [
       "<matplotlib.figure.Figure at 0x1ef60d7b5c0>"
      ]
     },
     "metadata": {},
     "output_type": "display_data"
    },
    {
     "data": {
      "image/png": "[encoded data removed]",
      "text/plain": [
       "<matplotlib.figure.Figure at 0x1ef5dc45b38>"
      ]
     },
     "metadata": {},
     "output_type": "display_data"
    }
   ],
   "source": [
    "import matplotlib.pyplot as plt\n",
    "from random import randint\n",
    "\n",
    "# Visualizations will be shown in the notebook.\n",
    "%matplotlib inline\n",
    "\n",
    "fig, (ax0, ax1,ax2) = plt.subplots(ncols=3, figsize=(8, 4))\n",
    "idx1=randint(0, n_train)\n",
    "ax0.imshow(cv2.cvtColor(X_train[idx1].reshape(32,32),cv2.COLOR_GRAY2RGB))\n",
    "ax1.imshow(X_train[randint(0, n_train)].reshape(32,32))\n",
    "norm = X_train[idx1].reshape(32,32)\n",
    "cv2.equalizeHist(norm,norm)\n",
    "ax2.imshow(cv2.cvtColor(norm,cv2.COLOR_GRAY2RGB))\n",
    "plt.show()\n",
    "print(X_train[idx1])\n",
    "fig, (ax0, ax1) = plt.subplots(ncols=2, figsize=(8, 4))\n",
    "idx1=randint(0, n_validation)\n",
    "ax0.imshow(X_valid[idx1].reshape(32,32))\n",
    "ax1.imshow(X_valid[randint(0, n_validation)].reshape(32,32))\n",
    "print(X_valid[idx1])\n",
    "fig, (ax0, ax1) = plt.subplots(ncols=2, figsize=(8, 4))\n",
    "idx1=randint(0, n_test)\n",
    "ax0.imshow(X_test[idx1].reshape(32,32))\n",
    "ax1.imshow(X_test[randint(0, n_test)].reshape(32,32))\n",
    "print(X_test[idx1])"
   ]
  },
  {
   "cell_type": "code",
   "execution_count": 8,
   "metadata": {},
   "outputs": [],
   "source": [
    "def normalize(x) :\n",
    "    return [(pixel-128.0)/128.0 for pixel in x]\n",
    "    "
   ]
  },
  {
   "cell_type": "code",
   "execution_count": 9,
   "metadata": {},
   "outputs": [
    {
     "name": "stdout",
     "output_type": "stream",
     "text": [
      "Normalize img True\n",
      "[[[[-0.609375 ]\n",
      "   [-0.3203125]\n",
      "   [-0.3203125]\n",
      "   ..., \n",
      "   [-0.609375 ]\n",
      "   [-0.3203125]\n",
      "   [-0.1953125]]\n",
      "\n",
      "  [[-1.       ]\n",
      "   [-1.       ]\n",
      "   [-0.609375 ]\n",
      "   ..., \n",
      "   [-0.609375 ]\n",
      "   [-0.3203125]\n",
      "   [-0.1953125]]\n",
      "\n",
      "  [[-0.890625 ]\n",
      "   [-0.890625 ]\n",
      "   [-0.609375 ]\n",
      "   ..., \n",
      "   [-0.3203125]\n",
      "   [-0.609375 ]\n",
      "   [-0.3203125]]\n",
      "\n",
      "  ..., \n",
      "  [[-1.       ]\n",
      "   [-0.890625 ]\n",
      "   [-0.890625 ]\n",
      "   ..., \n",
      "   [-0.1953125]\n",
      "   [-0.1015625]\n",
      "   [-0.1015625]]\n",
      "\n",
      "  [[-0.890625 ]\n",
      "   [-0.890625 ]\n",
      "   [-0.609375 ]\n",
      "   ..., \n",
      "   [-0.1953125]\n",
      "   [-0.1953125]\n",
      "   [-0.3203125]]\n",
      "\n",
      "  [[-0.609375 ]\n",
      "   [-1.       ]\n",
      "   [-0.890625 ]\n",
      "   ..., \n",
      "   [-0.1015625]\n",
      "   [-0.1953125]\n",
      "   [-0.609375 ]]]\n",
      "\n",
      "\n",
      " [[[-0.8515625]\n",
      "   [-0.96875  ]\n",
      "   [-0.9765625]\n",
      "   ..., \n",
      "   [ 0.1328125]\n",
      "   [ 0.015625 ]\n",
      "   [-0.09375  ]]\n",
      "\n",
      "  [[-0.6015625]\n",
      "   [-0.953125 ]\n",
      "   [-0.953125 ]\n",
      "   ..., \n",
      "   [ 0.21875  ]\n",
      "   [ 0.1640625]\n",
      "   [ 0.1328125]]\n",
      "\n",
      "  [[-0.484375 ]\n",
      "   [-0.4375   ]\n",
      "   [-0.3984375]\n",
      "   ..., \n",
      "   [ 0.25     ]\n",
      "   [ 0.2265625]\n",
      "   [ 0.21875  ]]\n",
      "\n",
      "  ..., \n",
      "  [[-0.0546875]\n",
      "   [-0.2734375]\n",
      "   [-0.2734375]\n",
      "   ..., \n",
      "   [ 0.4453125]\n",
      "   [ 0.3359375]\n",
      "   [ 0.2109375]]\n",
      "\n",
      "  [[ 0.0390625]\n",
      "   [-0.078125 ]\n",
      "   [ 0.0390625]\n",
      "   ..., \n",
      "   [-0.3984375]\n",
      "   [-0.4609375]\n",
      "   [-0.484375 ]]\n",
      "\n",
      "  [[ 0.4453125]\n",
      "   [ 0.4921875]\n",
      "   [ 0.7109375]\n",
      "   ..., \n",
      "   [-0.5078125]\n",
      "   [-0.5546875]\n",
      "   [-0.5703125]]]\n",
      "\n",
      "\n",
      " [[[ 0.34375  ]\n",
      "   [ 0.5859375]\n",
      "   [ 0.5625   ]\n",
      "   ..., \n",
      "   [ 0.9921875]\n",
      "   [ 0.6328125]\n",
      "   [ 0.4453125]]\n",
      "\n",
      "  [[-0.203125 ]\n",
      "   [ 0.1328125]\n",
      "   [ 0.34375  ]\n",
      "   ..., \n",
      "   [ 0.8203125]\n",
      "   [ 0.8203125]\n",
      "   [ 0.8203125]]\n",
      "\n",
      "  [[ 0.4140625]\n",
      "   [ 0.03125  ]\n",
      "   [ 0.21875  ]\n",
      "   ..., \n",
      "   [ 0.515625 ]\n",
      "   [ 0.625    ]\n",
      "   [ 0.6328125]]\n",
      "\n",
      "  ..., \n",
      "  [[-0.7734375]\n",
      "   [-0.875    ]\n",
      "   [-0.9140625]\n",
      "   ..., \n",
      "   [-0.71875  ]\n",
      "   [-0.734375 ]\n",
      "   [-0.8046875]]\n",
      "\n",
      "  [[-0.953125 ]\n",
      "   [-0.9375   ]\n",
      "   [-0.9375   ]\n",
      "   ..., \n",
      "   [-0.8125   ]\n",
      "   [-0.7265625]\n",
      "   [-0.71875  ]]\n",
      "\n",
      "  [[-0.9765625]\n",
      "   [-0.9140625]\n",
      "   [-0.8984375]\n",
      "   ..., \n",
      "   [-0.828125 ]\n",
      "   [-0.7109375]\n",
      "   [-0.734375 ]]]\n",
      "\n",
      "\n",
      " ..., \n",
      " [[[-0.5859375]\n",
      "   [-0.5859375]\n",
      "   [-0.5859375]\n",
      "   ..., \n",
      "   [ 0.1328125]\n",
      "   [ 0.390625 ]\n",
      "   [ 0.546875 ]]\n",
      "\n",
      "  [[-0.375    ]\n",
      "   [-0.375    ]\n",
      "   [-0.5859375]\n",
      "   ..., \n",
      "   [ 0.1328125]\n",
      "   [ 0.390625 ]\n",
      "   [ 0.546875 ]]\n",
      "\n",
      "  [[-0.375    ]\n",
      "   [-0.375    ]\n",
      "   [-0.5859375]\n",
      "   ..., \n",
      "   [ 0.171875 ]\n",
      "   [ 0.4453125]\n",
      "   [ 0.546875 ]]\n",
      "\n",
      "  ..., \n",
      "  [[-0.1875   ]\n",
      "   [-0.1171875]\n",
      "   [-0.375    ]\n",
      "   ..., \n",
      "   [ 0.0234375]\n",
      "   [ 0.2734375]\n",
      "   [ 0.4453125]]\n",
      "\n",
      "  [[-0.1875   ]\n",
      "   [-0.1171875]\n",
      "   [-0.375    ]\n",
      "   ..., \n",
      "   [ 0.0234375]\n",
      "   [ 0.2109375]\n",
      "   [ 0.390625 ]]\n",
      "\n",
      "  [[-0.1171875]\n",
      "   [-0.1171875]\n",
      "   [-0.375    ]\n",
      "   ..., \n",
      "   [ 0.0234375]\n",
      "   [ 0.2734375]\n",
      "   [ 0.390625 ]]]\n",
      "\n",
      "\n",
      " [[[-0.953125 ]\n",
      "   [-0.921875 ]\n",
      "   [-0.921875 ]\n",
      "   ..., \n",
      "   [ 0.9921875]\n",
      "   [ 0.9921875]\n",
      "   [ 0.921875 ]]\n",
      "\n",
      "  [[-1.       ]\n",
      "   [-1.       ]\n",
      "   [-0.953125 ]\n",
      "   ..., \n",
      "   [ 0.9921875]\n",
      "   [ 0.890625 ]\n",
      "   [ 0.859375 ]]\n",
      "\n",
      "  [[-0.8359375]\n",
      "   [-0.78125  ]\n",
      "   [-0.6484375]\n",
      "   ..., \n",
      "   [ 0.875    ]\n",
      "   [ 0.7890625]\n",
      "   [ 0.8046875]]\n",
      "\n",
      "  ..., \n",
      "  [[-0.921875 ]\n",
      "   [-0.8359375]\n",
      "   [-0.8359375]\n",
      "   ..., \n",
      "   [ 0.9140625]\n",
      "   [ 0.796875 ]\n",
      "   [ 0.671875 ]]\n",
      "\n",
      "  [[-0.6484375]\n",
      "   [-0.6484375]\n",
      "   [-0.609375 ]\n",
      "   ..., \n",
      "   [ 0.8984375]\n",
      "   [ 0.84375  ]\n",
      "   [ 0.703125 ]]\n",
      "\n",
      "  [[-0.5859375]\n",
      "   [-0.609375 ]\n",
      "   [-0.7421875]\n",
      "   ..., \n",
      "   [ 0.7890625]\n",
      "   [ 0.765625 ]\n",
      "   [ 0.6875   ]]]\n",
      "\n",
      "\n",
      " [[[-0.96875  ]\n",
      "   [-0.9453125]\n",
      "   [-0.9609375]\n",
      "   ..., \n",
      "   [-0.7265625]\n",
      "   [-0.8984375]\n",
      "   [-0.9921875]]\n",
      "\n",
      "  [[-0.9140625]\n",
      "   [-0.8984375]\n",
      "   [-0.9140625]\n",
      "   ..., \n",
      "   [-0.7734375]\n",
      "   [-0.7734375]\n",
      "   [-0.9921875]]\n",
      "\n",
      "  [[-0.9140625]\n",
      "   [-0.8203125]\n",
      "   [-0.7265625]\n",
      "   ..., \n",
      "   [-0.8671875]\n",
      "   [-0.8984375]\n",
      "   [-0.9453125]]\n",
      "\n",
      "  ..., \n",
      "  [[-0.0390625]\n",
      "   [-0.0546875]\n",
      "   [-0.0390625]\n",
      "   ..., \n",
      "   [ 0.0390625]\n",
      "   [-0.203125 ]\n",
      "   [-0.40625  ]]\n",
      "\n",
      "  [[ 0.0859375]\n",
      "   [ 0.0859375]\n",
      "   [ 0.0546875]\n",
      "   ..., \n",
      "   [ 0.0546875]\n",
      "   [-0.203125 ]\n",
      "   [-0.421875 ]]\n",
      "\n",
      "  [[ 0.1484375]\n",
      "   [ 0.1640625]\n",
      "   [ 0.1484375]\n",
      "   ..., \n",
      "   [ 0.0625   ]\n",
      "   [-0.0625   ]\n",
      "   [-0.359375 ]]]]\n"
     ]
    }
   ],
   "source": [
    "print(\"Normalize img \"+str(NORMALIZE_IMG))\n",
    "X_train_shape_b4 = X_train.shape\n",
    "X_valid_shape_b4 = X_valid.shape\n",
    "X_test_shape_b4 = X_test.shape\n",
    "if NORMALIZE_IMG:\n",
    "    X_train = np.array([normalize(elem) for elem in X_train])\n",
    "    assert X_train.shape == X_train_shape_b4, \"Unexpected shape %r \" % X_train.shape\n",
    "    print(X_train)\n",
    "    X_valid = np.array([normalize(elem) for elem in X_valid])\n",
    "    assert X_valid.shape == X_valid_shape_b4, \"Unexpected shape %r \" % X_valid.shape\n",
    "    X_test = np.array([normalize(elem) for elem in X_test])\n",
    "    assert X_test.shape == X_test_shape_b4, \"Unexpected shape %r \" % X_test.shape \n",
    "    "
   ]
  },
  {
   "cell_type": "code",
   "execution_count": 10,
   "metadata": {},
   "outputs": [
    {
     "name": "stdout",
     "output_type": "stream",
     "text": [
      "Augmenting with rotations...\n",
      "(34799, 32, 32, 1)\n",
      "(34799,)\n",
      "(104397, 32, 32, 1)\n",
      "(104397,)\n"
     ]
    }
   ],
   "source": [
    "rotMatrixL = cv2.getRotationMatrix2D((image_shape[0]/2,image_shape[1]/2),3,1)\n",
    "rotMatrixR = cv2.getRotationMatrix2D((image_shape[0]/2,image_shape[1]/2),-3,1)\n",
    "\n",
    "\n",
    "def augment(X,y):\n",
    "    aug_L = [cv2.warpAffine(img,rotMatrixL,(image_shape[0],image_shape[1])) for img in X]\n",
    "    aug_R = [cv2.warpAffine(img,rotMatrixR,(image_shape[0],image_shape[1])) for img in X]\n",
    "    newX = np.append(X,[aug_L,aug_R]).reshape(X.shape[0]*3,32,32,1)\n",
    "    newy = np.append(y,[y,y])\n",
    "    return newX,newy\n",
    "\n",
    "print(\"Augmenting with rotations...\")\n",
    "print(X_train.shape)\n",
    "print(y_train.shape)\n",
    "X_train, y_train = augment(X_train,y_train)\n",
    "print(X_train.shape)\n",
    "print(y_train.shape)\n",
    "X_valid, y_valid = augment(X_valid,y_valid)\n",
    "#assert X_train.size == y_train.size\n"
   ]
  },
  {
   "cell_type": "markdown",
   "metadata": {},
   "source": [
    "### Model Architecture"
   ]
  },
  {
   "cell_type": "code",
   "execution_count": 11,
   "metadata": {},
   "outputs": [
    {
     "name": "stdout",
     "output_type": "stream",
     "text": [
      "The installed version of TensorFlow includes GPU support.\n"
     ]
    }
   ],
   "source": [
    "import tensorflow as tf\n",
    "\n",
    "\n",
    "\n",
    "if tf.test.is_built_with_cuda():\n",
    "    print(\"The installed version of TensorFlow includes GPU support.\")\n",
    "else:\n",
    "    print(\"The installed version of TensorFlow does not include GPU support.\")\n"
   ]
  },
  {
   "cell_type": "code",
   "execution_count": 12,
   "metadata": {},
   "outputs": [],
   "source": [
    "from tensorflow.contrib.layers import flatten\n",
    "\n",
    "def LeNet(x):    \n",
    "    # Arguments used for tf.truncated_normal, randomly defines variables for the weights and biases for each layer\n",
    "    mu = 0\n",
    "    sigma = 0.1\n",
    "    \n",
    "    # SOLUTION: Layer 1: Convolutional. Input = 32x32x1. Output = 28x28x6.\n",
    "    conv1_W = tf.Variable(tf.truncated_normal(shape=(5, 5, 1, 6), mean = mu, stddev = sigma))\n",
    "    conv1_b = tf.Variable(tf.zeros(6))\n",
    "    conv1   = tf.nn.conv2d(x, conv1_W, strides=[1, 1, 1, 1], padding='VALID') + conv1_b\n",
    "\n",
    "    # SOLUTION: Activation.\n",
    "    conv1 = tf.nn.relu(conv1)\n",
    "\n",
    "    # SOLUTION: Pooling. Input = 28x28x6. Output = 14x14x6.\n",
    "    conv1 = tf.nn.max_pool(conv1, ksize=[1, 2, 2, 1], strides=[1, 2, 2, 1], padding='VALID')\n",
    "\n",
    "    # SOLUTION: Layer 2: Convolutional. Output = 10x10x16.\n",
    "    conv2_W = tf.Variable(tf.truncated_normal(shape=(5, 5, 6, 16), mean = mu, stddev = sigma))\n",
    "    conv2_b = tf.Variable(tf.zeros(16))\n",
    "    conv2   = tf.nn.conv2d(conv1, conv2_W, strides=[1, 1, 1, 1], padding='VALID') + conv2_b\n",
    "    conv2   = tf.nn.dropout(conv2,0.9)\n",
    "    # SOLUTION: Activation.\n",
    "    conv2 = tf.nn.relu(conv2)\n",
    "\n",
    "    # SOLUTION: Pooling. Input = 10x10x16. Output = 5x5x16.\n",
    "    conv2 = tf.nn.max_pool(conv2, ksize=[1, 2, 2, 1], strides=[1, 2, 2, 1], padding='VALID')\n",
    "\n",
    "    # SOLUTION: Flatten. Input = 5x5x16. Output = 400.\n",
    "    fc0   = flatten(conv2)\n",
    "    \n",
    "    # SOLUTION: Layer 3: Fully Connected. Input = 400. Output = 120.\n",
    "    fc1_W = tf.Variable(tf.truncated_normal(shape=(400, FC1_OUT_SIZE), mean = mu, stddev = sigma))\n",
    "    fc1_b = tf.Variable(tf.zeros(FC1_OUT_SIZE))\n",
    "    fc1   = tf.matmul(fc0, fc1_W) + fc1_b\n",
    "    \n",
    "    # SOLUTION: Activation.\n",
    "    fc1    = tf.nn.relu(fc1)\n",
    "    fc1   =  tf.nn.dropout(fc1,0.95)\n",
    "    # SOLUTION: Layer 4: Fully Connected. Input = 120. Output = 84.\n",
    "    fc2_W  = tf.Variable(tf.truncated_normal(shape=(FC1_OUT_SIZE, FC2_OUT_SIZE), mean = mu, stddev = sigma))\n",
    "    fc2_b  = tf.Variable(tf.zeros(FC2_OUT_SIZE))\n",
    "    fc2    = tf.matmul(fc1, fc2_W) + fc2_b\n",
    "    \n",
    "    # SOLUTION: Activation.\n",
    "    fc2    = tf.nn.relu(fc2)\n",
    "    fc2   =  tf.nn.dropout(fc2,1.0)\n",
    "    # SOLUTION: Layer 5: Fully Connected. Input = 84. Output = Number of labels\n",
    "    fc3_W  = tf.Variable(tf.truncated_normal(shape=(FC2_OUT_SIZE, n_classes), mean = mu, stddev = sigma))\n",
    "    fc3_b  = tf.Variable(tf.zeros(n_classes))\n",
    "    logits = tf.matmul(fc2, fc3_W) + fc3_b\n",
    "    \n",
    "    return logits"
   ]
  },
  {
   "cell_type": "code",
   "execution_count": 13,
   "metadata": {},
   "outputs": [],
   "source": [
    "x = tf.placeholder(tf.float32, (None, 32, 32,1))\n",
    "y = tf.placeholder(tf.int32, (None)) \n",
    "one_hot_y = tf.one_hot(y, n_classes) #CRIT: labels"
   ]
  },
  {
   "cell_type": "markdown",
   "metadata": {},
   "source": [
    "### Train, Validate and Test the Model"
   ]
  },
  {
   "cell_type": "markdown",
   "metadata": {},
   "source": [
    "A validation set can be used to assess how well the model is performing. A low accuracy on the training and validation\n",
    "sets imply underfitting. A high accuracy on the training set but low accuracy on the validation set implies overfitting."
   ]
  },
  {
   "cell_type": "code",
   "execution_count": 14,
   "metadata": {},
   "outputs": [],
   "source": [
    "rate = LEARNING_RATE\n",
    "\n",
    "logits = LeNet(x)\n",
    "cross_entropy = tf.nn.softmax_cross_entropy_with_logits(labels=one_hot_y, logits=logits)\n",
    "loss_operation = tf.reduce_mean(cross_entropy)\n",
    "optimizer = tf.train.AdamOptimizer(learning_rate = rate)\n",
    "training_operation = optimizer.minimize(loss_operation)"
   ]
  },
  {
   "cell_type": "code",
   "execution_count": 15,
   "metadata": {},
   "outputs": [],
   "source": [
    "correct_prediction = tf.equal(tf.argmax(logits, 1), tf.argmax(one_hot_y, 1))\n",
    "accuracy_operation = tf.reduce_mean(tf.cast(correct_prediction, tf.float32))\n",
    "saver = tf.train.Saver()\n",
    "\n",
    "def evaluate(X_data, y_data):\n",
    "    num_examples = len(X_data)\n",
    "    total_accuracy = 0\n",
    "    sess = tf.get_default_session()\n",
    "    for offset in range(0, num_examples, BATCH_SIZE):\n",
    "        batch_x, batch_y = X_data[offset:offset+BATCH_SIZE], y_data[offset:offset+BATCH_SIZE]\n",
    "        accuracy = sess.run(accuracy_operation, feed_dict={x: batch_x, y: batch_y})\n",
    "        total_accuracy += (accuracy * len(batch_x))\n",
    "    return total_accuracy / num_examples"
   ]
  },
  {
   "cell_type": "code",
   "execution_count": 16,
   "metadata": {},
   "outputs": [
    {
     "name": "stdout",
     "output_type": "stream",
     "text": [
      "Training...\n",
      "\n",
      "EPOCH 1 ...\n",
      "Validation Accuracy = 0.879\n",
      "\n",
      "EPOCH 2 ...\n",
      "Validation Accuracy = 0.902\n",
      "\n",
      "EPOCH 3 ...\n",
      "Validation Accuracy = 0.924\n",
      "\n",
      "EPOCH 4 ...\n",
      "Validation Accuracy = 0.925\n",
      "\n",
      "EPOCH 5 ...\n",
      "Validation Accuracy = 0.925\n",
      "\n",
      "EPOCH 6 ...\n",
      "Validation Accuracy = 0.897\n",
      "\n",
      "EPOCH 7 ...\n",
      "Validation Accuracy = 0.929\n",
      "\n",
      "EPOCH 8 ...\n",
      "Validation Accuracy = 0.932\n",
      "\n",
      "EPOCH 9 ...\n",
      "Validation Accuracy = 0.919\n",
      "\n",
      "EPOCH 10 ...\n",
      "Validation Accuracy = 0.933\n",
      "\n",
      "EPOCH 11 ...\n",
      "Validation Accuracy = 0.938\n",
      "\n",
      "EPOCH 12 ...\n",
      "Validation Accuracy = 0.932\n",
      "\n",
      "EPOCH 13 ...\n",
      "Validation Accuracy = 0.930\n",
      "\n",
      "EPOCH 14 ...\n",
      "Validation Accuracy = 0.934\n",
      "\n",
      "EPOCH 15 ...\n",
      "Validation Accuracy = 0.939\n",
      "\n",
      "Model saved\n"
     ]
    }
   ],
   "source": [
    "with tf.Session() as sess:\n",
    "    sess.run(tf.global_variables_initializer())\n",
    "    num_examples = len(X_train)\n",
    "    \n",
    "    print(\"Training...\")\n",
    "    print()\n",
    "    for i in range(EPOCHS):\n",
    "        X_train, y_train = shuffle(X_train, y_train)\n",
    "        for offset in range(0, num_examples, BATCH_SIZE):\n",
    "            end = offset + BATCH_SIZE\n",
    "            batch_x, batch_y = X_train[offset:end], y_train[offset:end]\n",
    "            sess.run(training_operation, feed_dict={x: batch_x, y: batch_y})\n",
    "            \n",
    "        validation_accuracy = evaluate(X_valid, y_valid)\n",
    "        print(\"EPOCH {} ...\".format(i+1))\n",
    "        print(\"Validation Accuracy = {:.3f}\".format(validation_accuracy))\n",
    "        print()\n",
    "        \n",
    "    saver.save(sess, './lenet')\n",
    "    print(\"Model saved\")"
   ]
  },
  {
   "cell_type": "code",
   "execution_count": 17,
   "metadata": {},
   "outputs": [
    {
     "name": "stdout",
     "output_type": "stream",
     "text": [
      "INFO:tensorflow:Restoring parameters from .\\lenet\n",
      "Test Accuracy = 0.927\n"
     ]
    }
   ],
   "source": [
    "with tf.Session() as sess:\n",
    "    saver.restore(sess, tf.train.latest_checkpoint('.'))\n",
    "\n",
    "    test_accuracy = evaluate(X_test, y_test)\n",
    "    print(\"Test Accuracy = {:.3f}\".format(test_accuracy))"
   ]
  },
  {
   "cell_type": "markdown",
   "metadata": {},
   "source": [
    "---\n",
    "\n",
    "## Step 3: Test a Model on New Images\n",
    "\n",
    "To give yourself more insight into how your model is working, download at least five pictures of German traffic signs from the web and use your model to predict the traffic sign type.\n",
    "\n",
    "You may find `signnames.csv` useful as it contains mappings from the class id (integer) to the actual sign name."
   ]
  },
  {
   "cell_type": "markdown",
   "metadata": {},
   "source": [
    "### Load and Output the Images"
   ]
  },
  {
   "cell_type": "code",
   "execution_count": 41,
   "metadata": {},
   "outputs": [
    {
     "name": "stdout",
     "output_type": "stream",
     "text": [
      "['keepr1_38.png', 'tempo501_2.jpg', 'tempo502_2.jpg', 'vorfahrt1_12.jpg', 'yield1_13.jpg']\n"
     ]
    },
    {
     "data": {
      "image/png": "[encoded data removed]",
      "text/plain": [
       "<matplotlib.figure.Figure at 0x1ef1ee504e0>"
      ]
     },
     "metadata": {},
     "output_type": "display_data"
    },
    {
     "name": "stdout",
     "output_type": "stream",
     "text": [
      "(5, 32, 32)\n",
      "(5, 32, 32, 1)\n"
     ]
    }
   ],
   "source": [
    "### Load the images and plot them here.\n",
    "### Feel free to use as many code cells as needed.\n",
    "\n",
    "import cv2\n",
    "import os\n",
    "import matplotlib.pyplot as plt\n",
    "\n",
    "mysigns_f = os.listdir(\"custom_signs\")\n",
    "print(mysigns_f)\n",
    "X_my = np.array([cv2.resize(cv2.imread(\"custom_signs/\"+x, cv2.IMREAD_GRAYSCALE), (image_shape[0], image_shape[1])) for x in mysigns_f])\n",
    "y_my = np.array([38,40,40,12,13])\n",
    "#print(X_my)\n",
    "%matplotlib inline\n",
    "\n",
    "fig, ax = plt.subplots(ncols=5, figsize=(8, 4))\n",
    "for i in range(0,5):\n",
    "    ax[i].imshow(X_my[i])\n",
    "plt.show()\n",
    "print(X_my.shape)\n",
    "X_my = fixShape(cv_normalize(X_my) ,X_my.shape[0])\n",
    "print(X_my.shape)\n",
    "\n",
    "#print(X_my)\n",
    "\n",
    "#fig, ax = plt.subplots(ncols=5, figsize=(8, 4))\n",
    "#for i in range(0,4):\n",
    "#    ax[i].imshow(X_my[i])\n",
    "#plt.show()\n"
   ]
  },
  {
   "cell_type": "markdown",
   "metadata": {},
   "source": [
    "### Predict the Sign Type for Each Image"
   ]
  },
  {
   "cell_type": "code",
   "execution_count": 40,
   "metadata": {},
   "outputs": [
    {
     "name": "stdout",
     "output_type": "stream",
     "text": [
      "INFO:tensorflow:Restoring parameters from .\\lenet\n",
      "[38 40  0 12 13]\n"
     ]
    }
   ],
   "source": [
    "### Run the predictions here and use the model to output the prediction for each image.\n",
    "### Make sure to pre-process the images with the same pre-processing pipeline used earlier.\n",
    "### Feel free to use as many code cells as needed.\n",
    "with tf.Session() as sess:\n",
    "    saver.restore(sess, tf.train.latest_checkpoint('.'))\n",
    "\n",
    "    classification = sess.run(tf.argmax(logits, 1), feed_dict={x: X_my})\n",
    "\n",
    "print(classification)"
   ]
  },
  {
   "cell_type": "markdown",
   "metadata": {},
   "source": [
    "### Analyze Performance"
   ]
  },
  {
   "cell_type": "code",
   "execution_count": 42,
   "metadata": {},
   "outputs": [
    {
     "name": "stdout",
     "output_type": "stream",
     "text": [
      "INFO:tensorflow:Restoring parameters from .\\lenet\n",
      "Web signs Accuracy = 0.800\n"
     ]
    }
   ],
   "source": [
    "### Calculate the accuracy for these 5 new images. \n",
    "### For example, if the model predicted 1 out of 5 signs correctly, it's 20% accurate on these new images.\n",
    "\n",
    "with tf.Session() as sess:\n",
    "    saver.restore(sess, tf.train.latest_checkpoint('.'))\n",
    "\n",
    "    test_accuracy = evaluate(X_my, y_my)\n",
    "    print(\"Web signs Accuracy = {:.3f}\".format(test_accuracy))\n",
    "    "
   ]
  },
  {
   "cell_type": "markdown",
   "metadata": {},
   "source": [
    "### Output Top 5 Softmax Probabilities For Each Image Found on the Web"
   ]
  },
  {
   "cell_type": "markdown",
   "metadata": {},
   "source": [
    "For each of the new images, print out the model's softmax probabilities to show the **certainty** of the model's predictions (limit the output to the top 5 probabilities for each image). [`tf.nn.top_k`](https://www.tensorflow.org/versions/r0.12/api_docs/python/nn.html#top_k) could prove helpful here. \n",
    "\n",
    "The example below demonstrates how tf.nn.top_k can be used to find the top k predictions for each image.\n",
    "\n",
    "`tf.nn.top_k` will return the values and indices (class ids) of the top k predictions. So if k=3, for each sign, it'll return the 3 largest probabilities (out of a possible 43) and the correspoding class ids.\n",
    "\n",
    "Take this numpy array as an example. The values in the array represent predictions. The array contains softmax probabilities for five candidate images with six possible classes. `tf.nn.top_k` is used to choose the three classes with the highest probability:\n",
    "\n",
    "```\n",
    "# (5, 6) array\n",
    "a = np.array([[ 0.24879643,  0.07032244,  0.12641572,  0.34763842,  0.07893497,\n",
    "         0.12789202],\n",
    "       [ 0.28086119,  0.27569815,  0.08594638,  0.0178669 ,  0.18063401,\n",
    "         0.15899337],\n",
    "       [ 0.26076848,  0.23664738,  0.08020603,  0.07001922,  0.1134371 ,\n",
    "         0.23892179],\n",
    "       [ 0.11943333,  0.29198961,  0.02605103,  0.26234032,  0.1351348 ,\n",
    "         0.16505091],\n",
    "       [ 0.09561176,  0.34396535,  0.0643941 ,  0.16240774,  0.24206137,\n",
    "         0.09155967]])\n",
    "```\n",
    "\n",
    "Running it through `sess.run(tf.nn.top_k(tf.constant(a), k=3))` produces:\n",
    "\n",
    "```\n",
    "TopKV2(values=array([[ 0.34763842,  0.24879643,  0.12789202],\n",
    "       [ 0.28086119,  0.27569815,  0.18063401],\n",
    "       [ 0.26076848,  0.23892179,  0.23664738],\n",
    "       [ 0.29198961,  0.26234032,  0.16505091],\n",
    "       [ 0.34396535,  0.24206137,  0.16240774]]), indices=array([[3, 0, 5],\n",
    "       [0, 1, 4],\n",
    "       [0, 5, 1],\n",
    "       [1, 3, 5],\n",
    "       [1, 4, 3]], dtype=int32))\n",
    "```\n",
    "\n",
    "Looking just at the first row we get `[ 0.34763842,  0.24879643,  0.12789202]`, you can confirm these are the 3 largest probabilities in `a`. You'll also notice `[3, 0, 5]` are the corresponding indices."
   ]
  },
  {
   "cell_type": "code",
   "execution_count": 43,
   "metadata": {},
   "outputs": [
    {
     "name": "stdout",
     "output_type": "stream",
     "text": [
      "INFO:tensorflow:Restoring parameters from .\\lenet\n",
      "[[ -6922.30761719   -632.1729126    -376.19448853  -4708.19335938\n",
      "  -17419.4453125   -4071.85546875 -12078.54394531 -11637.13378906\n",
      "   -9525.7890625   -5644.82128906  -1136.37060547  -2662.62475586\n",
      "   -1868.66589355   -829.44055176  -7727.359375    -7616.97607422\n",
      "  -13536.19433594  -6630.54248047 -11645.21972656 -10096.53515625\n",
      "   -1698.79858398  -2670.41821289  -7036.77539062   4760.25537109\n",
      "  -15845.14746094    995.00738525 -10615.828125    -8914.00195312\n",
      "   -4260.79541016  -6247.15673828  -2187.01318359    617.91064453\n",
      "  -10944.32519531 -17769.3828125   -1105.4465332   -3720.7578125\n",
      "   -6320.90771484  -6708.85546875  14116.55273438 -12081.05371094\n",
      "     633.97216797  -8111.57275391  -3684.06665039]\n",
      " [ -1132.89404297    447.73431396  -2214.0703125   -4246.54052734\n",
      "   -6096.71289062  -5978.99951172  -4999.6796875   -2682.53149414\n",
      "     -34.43929291  -4103.37890625  -5938.78613281  -1011.73358154\n",
      "   -1622.32421875  -7450.81591797  -3263.8996582   -5423.18457031\n",
      "   -6853.40380859  -1014.49285889  -5071.21875     -5739.00732422\n",
      "   -1355.02819824  -2633.59960938  -8609.9609375   -2222.88623047\n",
      "   -6637.35595703  -7973.89404297  -1229.02954102  -5267.40576172\n",
      "   -3130.46166992  -5821.14794922  -1630.38195801  -4025.63574219\n",
      "   -5031.76416016  -3096.46313477  -8485.19238281  -2606.37792969\n",
      "   -9914.33007812   3114.64916992  -2149.51806641  -3535.24291992\n",
      "    4871.0546875   -1086.64526367  -6482.20410156]\n",
      " [  1317.76403809    908.83178711   -684.66119385   -368.93243408\n",
      "   -2244.1640625    -566.5144043     474.89144897  -2899.10546875\n",
      "   -1478.32727051  -2566.97314453  -3419.90283203  -1414.28894043\n",
      "   -2091.75439453  -3374.41430664  -1319.10510254  -4359.96826172\n",
      "   -3800.0859375    -924.92816162  -1719.0970459    -412.85171509\n",
      "   -1065.87414551  -2269.78051758  -1886.92797852  -1901.28723145\n",
      "    -804.63665771   -562.03082275  -1683.64550781    167.33366394\n",
      "     178.67053223   -946.69482422   -397.11032104  -2026.70544434\n",
      "    -705.18756104  -2951.37915039   -830.71759033  -1776.6204834\n",
      "   -1567.6640625   -1097.61022949   -102.5409317   -3379.74389648\n",
      "    -279.91699219  -1572.39428711  -3443.9519043 ]\n",
      " [ -5993.51074219  -2914.66455078  -1135.11120605  -2722.09423828\n",
      "   -7928.05322266  -5064.87548828  -3857.37915039  -4018.12231445\n",
      "   -4837.78173828  -3837.03979492  -6252.57080078   1509.76843262\n",
      "    2451.31103516   -512.59893799  -2796.65722656  -1742.61047363\n",
      "   -5751.77441406  -1456.27502441    843.63323975  -4018.17016602\n",
      "   -2120.16040039  -1840.41369629  -7353.56201172  -3842.52172852\n",
      "   -4380.96337891  -1982.77783203    695.71258545  -1451.26843262\n",
      "   -3444.17431641  -3701.73681641  -1312.4173584   -5340.16552734\n",
      "   -3785.62768555   -376.097229    -4992.19775391  -2767.94360352\n",
      "   -7295.32226562  -2427.62744141  -1962.21691895  -4446.98632812\n",
      "     702.13500977  -2143.16772461  -2554.20825195]\n",
      " [ -3782.80053711   -636.30432129  -4194.53808594  -2533.24145508\n",
      "   -5962.76757812    241.3495636   -5769.33398438  -4840.8203125\n",
      "   -3464.03369141  -2455.44897461  -3563.73120117  -4391.9921875\n",
      "     428.67456055   4814.77441406  -3623.765625       24.68647575\n",
      "   -8168.6796875   -3514.99658203  -5048.37597656  -2837.84741211\n",
      "   -3677.28808594  -1754.69250488   -753.64611816  -1102.7019043\n",
      "   -6268.87744141   -942.84844971  -3750.28466797  -6211.51708984\n",
      "    -847.9352417   -2543.6003418   -4203.35644531  -5331.20947266\n",
      "   -2583.9309082   -3604.62426758    211.0141449     323.74490356\n",
      "   -2423.3503418   -2666.83447266   1069.28503418  -1215.87939453\n",
      "   -2562.1081543   -3584.76269531  -3759.89672852]]\n"
     ]
    }
   ],
   "source": [
    "### Print out the top five softmax probabilities for the predictions on the German traffic sign images found on the web. \n",
    "### Feel free to use as many code cells as needed.\n",
    "\n",
    "### Run the predictions here and use the model to output the prediction for each image.\n",
    "### Make sure to pre-process the images with the same pre-processing pipeline used earlier.\n",
    "### Feel free to use as many code cells as needed.\n",
    "with tf.Session() as sess:\n",
    "    saver.restore(sess, tf.train.latest_checkpoint('.'))\n",
    "\n",
    "    softm = sess.run(logits, feed_dict={x: X_my})\n",
    "\n",
    "print(softm)\n"
   ]
  },
  {
   "cell_type": "markdown",
   "metadata": {},
   "source": [
    "### Project Writeup\n",
    "\n",
    "Once you have completed the code implementation, document your results in a project writeup using this [template](https://github.com/udacity/CarND-Traffic-Sign-Classifier-Project/blob/master/writeup_template.md) as a guide. The writeup can be in a markdown or pdf file. "
   ]
  },
  {
   "cell_type": "markdown",
   "metadata": {},
   "source": [
    "> **Note**: Once you have completed all of the code implementations and successfully answered each question above, you may finalize your work by exporting the iPython Notebook as an HTML document. You can do this by using the menu above and navigating to  \\n\",\n",
    "    \"**File -> Download as -> HTML (.html)**. Include the finished document along with this notebook as your submission."
   ]
  },
  {
   "cell_type": "markdown",
   "metadata": {},
   "source": [
    "---\n",
    "\n",
    "## Step 4 (Optional): Visualize the Neural Network's State with Test Images\n",
    "\n",
    " This Section is not required to complete but acts as an additional excersise for understaning the output of a neural network's weights. While neural networks can be a great learning device they are often referred to as a black box. We can understand what the weights of a neural network look like better by plotting their feature maps. After successfully training your neural network you can see what it's feature maps look like by plotting the output of the network's weight layers in response to a test stimuli image. From these plotted feature maps, it's possible to see what characteristics of an image the network finds interesting. For a sign, maybe the inner network feature maps react with high activation to the sign's boundary outline or to the contrast in the sign's painted symbol.\n",
    "\n",
    " Provided for you below is the function code that allows you to get the visualization output of any tensorflow weight layer you want. The inputs to the function should be a stimuli image, one used during training or a new one you provided, and then the tensorflow variable name that represents the layer's state during the training process, for instance if you wanted to see what the [LeNet lab's](https://classroom.udacity.com/nanodegrees/nd013/parts/fbf77062-5703-404e-b60c-95b78b2f3f9e/modules/6df7ae49-c61c-4bb2-a23e-6527e69209ec/lessons/601ae704-1035-4287-8b11-e2c2716217ad/concepts/d4aca031-508f-4e0b-b493-e7b706120f81) feature maps looked like for it's second convolutional layer you could enter conv2 as the tf_activation variable.\n",
    "\n",
    "For an example of what feature map outputs look like, check out NVIDIA's results in their paper [End-to-End Deep Learning for Self-Driving Cars](https://devblogs.nvidia.com/parallelforall/deep-learning-self-driving-cars/) in the section Visualization of internal CNN State. NVIDIA was able to show that their network's inner weights had high activations to road boundary lines by comparing feature maps from an image with a clear path to one without. Try experimenting with a similar test to show that your trained network's weights are looking for interesting features, whether it's looking at differences in feature maps from images with or without a sign, or even what feature maps look like in a trained network vs a completely untrained one on the same sign image.\n",
    "\n",
    "<figure>\n",
    " <img src=\"visualize_cnn.png\" width=\"380\" alt=\"Combined Image\" />\n",
    " <figcaption>\n",
    " <p></p> \n",
    " <p style=\"text-align: center;\"> Your output should look something like this (above)</p> \n",
    " </figcaption>\n",
    "</figure>\n",
    " <p></p> \n"
   ]
  },
  {
   "cell_type": "code",
   "execution_count": 22,
   "metadata": {},
   "outputs": [],
   "source": [
    "### Visualize your network's feature maps here.\n",
    "### Feel free to use as many code cells as needed.\n",
    "\n",
    "# image_input: the test image being fed into the network to produce the feature maps\n",
    "# tf_activation: should be a tf variable name used during your training procedure that represents the calculated state of a specific weight layer\n",
    "# activation_min/max: can be used to view the activation contrast in more detail, by default matplot sets min and max to the actual min and max values of the output\n",
    "# plt_num: used to plot out multiple different weight feature map sets on the same block, just extend the plt number for each new feature map entry\n",
    "\n",
    "def outputFeatureMap(image_input, tf_activation, activation_min=-1, activation_max=-1 ,plt_num=1):\n",
    "    # Here make sure to preprocess your image_input in a way your network expects\n",
    "    # with size, normalization, ect if needed\n",
    "    # image_input =\n",
    "    # Note: x should be the same name as your network's tensorflow data placeholder variable\n",
    "    # If you get an error tf_activation is not defined it may be having trouble accessing the variable from inside a function\n",
    "    activation = tf_activation.eval(session=sess,feed_dict={x : image_input})\n",
    "    featuremaps = activation.shape[3]\n",
    "    plt.figure(plt_num, figsize=(15,15))\n",
    "    for featuremap in range(featuremaps):\n",
    "        plt.subplot(6,8, featuremap+1) # sets the number of feature maps to show on each row and column\n",
    "        plt.title('FeatureMap ' + str(featuremap)) # displays the feature map number\n",
    "        if activation_min != -1 & activation_max != -1:\n",
    "            plt.imshow(activation[0,:,:, featuremap], interpolation=\"nearest\", vmin =activation_min, vmax=activation_max, cmap=\"gray\")\n",
    "        elif activation_max != -1:\n",
    "            plt.imshow(activation[0,:,:, featuremap], interpolation=\"nearest\", vmax=activation_max, cmap=\"gray\")\n",
    "        elif activation_min !=-1:\n",
    "            plt.imshow(activation[0,:,:, featuremap], interpolation=\"nearest\", vmin=activation_min, cmap=\"gray\")\n",
    "        else:\n",
    "            plt.imshow(activation[0,:,:, featuremap], interpolation=\"nearest\", cmap=\"gray\")"
   ]
  }
 ],
 "metadata": {
  "anaconda-cloud": {},
  "kernelspec": {
   "display_name": "Python 3",
   "language": "python",
   "name": "python3"
  },
  "language_info": {
   "codemirror_mode": {
    "name": "ipython",
    "version": 3
   },
   "file_extension": ".py",
   "mimetype": "text/x-python",
   "name": "python",
   "nbconvert_exporter": "python",
   "pygments_lexer": "ipython3",
   "version": "3.5.2"
  },
  "widgets": {
   "state": {},
   "version": "1.1.2"
  }
 },
 "nbformat": 4,
 "nbformat_minor": 1
}
